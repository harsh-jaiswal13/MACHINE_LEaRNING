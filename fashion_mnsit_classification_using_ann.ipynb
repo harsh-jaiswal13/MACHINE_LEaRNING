{
  "nbformat": 4,
  "nbformat_minor": 0,
  "metadata": {
    "colab": {
      "provenance": [],
      "authorship_tag": "ABX9TyOIxB1A4PgWlr2pV57HwBvM",
      "include_colab_link": true
    },
    "kernelspec": {
      "name": "python3",
      "display_name": "Python 3"
    },
    "language_info": {
      "name": "python"
    }
  },
  "cells": [
    {
      "cell_type": "markdown",
      "metadata": {
        "id": "view-in-github",
        "colab_type": "text"
      },
      "source": [
        "<a href=\"https://colab.research.google.com/github/harsh-jaiswal13/MACHINE_Learning/blob/main/fashion_mnsit_classification_using_ann.ipynb\" target=\"_parent\"><img src=\"https://colab.research.google.com/assets/colab-badge.svg\" alt=\"Open In Colab\"/></a>"
      ]
    },
    {
      "cell_type": "code",
      "source": [
        "!mkdir -p ~/.kaggle\n",
        "!cp kaggle.json ~/.kaggle/"
      ],
      "metadata": {
        "id": "hePvWeUmWOvF"
      },
      "execution_count": 2,
      "outputs": []
    },
    {
      "cell_type": "code",
      "execution_count": 3,
      "metadata": {
        "colab": {
          "base_uri": "https://localhost:8080/"
        },
        "id": "5y9-dzxaV1ki",
        "outputId": "beff26dc-2bc3-451f-c93e-a2089046fb01"
      },
      "outputs": [
        {
          "output_type": "stream",
          "name": "stdout",
          "text": [
            "Warning: Your Kaggle API key is readable by other users on this system! To fix this, you can run 'chmod 600 /root/.kaggle/kaggle.json'\n",
            "Downloading fashionmnist.zip to /content\n",
            " 97% 67.0M/68.8M [00:03<00:00, 30.8MB/s]\n",
            "100% 68.8M/68.8M [00:03<00:00, 22.6MB/s]\n"
          ]
        }
      ],
      "source": [
        "!kaggle datasets download -d zalando-research/fashionmnist"
      ]
    },
    {
      "cell_type": "code",
      "source": [
        "import zipfile\n",
        "zip_ref=zipfile.ZipFile('/content/fashionmnist.zip','r')\n",
        "zip_ref.extractall('/content')\n",
        "zip_ref.close()"
      ],
      "metadata": {
        "id": "RbKj4uYSWN-H"
      },
      "execution_count": 4,
      "outputs": []
    },
    {
      "cell_type": "code",
      "source": [
        "from tensorflow.keras.callbacks import EarlyStopping\n",
        "\n",
        "import tensorflow as tf\n",
        "from tensorflow import keras\n",
        "from keras import Sequential\n",
        "from keras.layers import Dense,Conv2D,MaxPooling2D,Flatten,BatchNormalization,Dropout\n",
        "# from tensorflow.keras.models import Sequential\n",
        "from tensorflow.keras.layers import Flatten\n",
        "# from tensorflow.keras.layers import Dense\n",
        "from tensorflow.keras.layers import Activation\n"
      ],
      "metadata": {
        "id": "LPjnnsshWN_1"
      },
      "execution_count": 20,
      "outputs": []
    },
    {
      "cell_type": "code",
      "source": [
        "import pandas as pd\n",
        "import matplotlib.pyplot as plt\n",
        "\n",
        "import numpy as np"
      ],
      "metadata": {
        "id": "pIF127ueW3ey"
      },
      "execution_count": 6,
      "outputs": []
    },
    {
      "cell_type": "code",
      "source": [
        "df=pd.read_csv('/content/fashion-mnist_train.csv')\n",
        "df_test=pd.read_csv('/content/fashion-mnist_test.csv')"
      ],
      "metadata": {
        "id": "SmSo2ZXhW1K3"
      },
      "execution_count": 7,
      "outputs": []
    },
    {
      "cell_type": "code",
      "source": [
        "df.shape\n",
        "ndf=df.drop(['label'],axis=1).to_numpy()"
      ],
      "metadata": {
        "id": "Pj69CY9_X1sH"
      },
      "execution_count": 8,
      "outputs": []
    },
    {
      "cell_type": "code",
      "source": [
        "ndf.shape\n",
        "ndf=ndf.reshape(60000,28,28,1)"
      ],
      "metadata": {
        "id": "my4UBPRjk3f5"
      },
      "execution_count": 9,
      "outputs": []
    },
    {
      "cell_type": "code",
      "source": [
        "df.head()"
      ],
      "metadata": {
        "id": "pK_mTUvHXBdQ"
      },
      "execution_count": null,
      "outputs": []
    },
    {
      "cell_type": "code",
      "source": [
        "a=[[1, 2, 3,4]\n",
        "  ,[1 ,2 ,3,4]\n",
        "  ,[1 ,2, 3,4]]\n",
        "a=np.array(a)\n",
        "a=a.reshape(3,2,2)\n",
        "a"
      ],
      "metadata": {
        "id": "mgUMyIpclgAy"
      },
      "execution_count": null,
      "outputs": []
    },
    {
      "cell_type": "code",
      "source": [
        "# a.shape\n",
        "num_classes=10\n",
        "y_train = keras.utils.to_categorical(np.array(df['label']), num_classes)"
      ],
      "metadata": {
        "id": "MNyszmSEl328"
      },
      "execution_count": 11,
      "outputs": []
    },
    {
      "cell_type": "code",
      "source": [
        "y_train[0]"
      ],
      "metadata": {
        "id": "1go3bizxh-I1"
      },
      "execution_count": null,
      "outputs": []
    },
    {
      "cell_type": "code",
      "source": [
        "df['label'].unique()"
      ],
      "metadata": {
        "colab": {
          "base_uri": "https://localhost:8080/"
        },
        "id": "ciQrTeckXFoj",
        "outputId": "4d2b9aa2-aff5-4ebe-fdc9-c8cdf2660905"
      },
      "execution_count": 16,
      "outputs": [
        {
          "output_type": "execute_result",
          "data": {
            "text/plain": [
              "array([2, 9, 6, 0, 3, 4, 5, 8, 7, 1])"
            ]
          },
          "metadata": {},
          "execution_count": 16
        }
      ]
    },
    {
      "cell_type": "code",
      "source": [
        "plt.imshow(np.array(df.drop(['label'],axis=1)[:1]).reshape(28,28))\n",
        "plt.show()\n"
      ],
      "metadata": {
        "colab": {
          "base_uri": "https://localhost:8080/",
          "height": 265
        },
        "id": "R4ZKV_OTZWcQ",
        "outputId": "9eb0f04d-949d-402a-8426-9f31d620e705"
      },
      "execution_count": 83,
      "outputs": [
        {
          "output_type": "display_data",
          "data": {
            "text/plain": [
              "<Figure size 432x288 with 1 Axes>"
            ],
            "image/png": "[encoded data removed]"
          },
          "metadata": {
            "needs_background": "light"
          }
        }
      ]
    },
    {
      "cell_type": "code",
      "source": [
        "num_classes =10\n",
        "input_shape=(28,28,1)\n",
        "\n",
        "# (x_train,y_train),(x_test,y_test)=keras.datasets.mnist.load_data()\n",
        "x_train=df.drop(['label'],axis=1)\n",
        "x_test=df_test.drop(['label'],axis=1)\n",
        "y_train=df['label']\n",
        "\n",
        "x_train=x_train.astype(\"float32\")/255\n",
        "x_test=x_test.astype(\"float32\")/255\n",
        "y_test=df_test['label']\n",
        "\n",
        "# print(x_train.shape)\n",
        "# x_train=x_train.reshape(28,28)\n",
        "x_test=np.expand_dims(x_test,-1)\n",
        "x_train=np.expand_dims(x_train,-1)\n",
        "\n",
        "\n",
        "print(\"x_train shape: \",x_train.shape)\n",
        "print(x_train.shape[0],\"train samples\")\n",
        "print(x_test.shape[0],\"test samples\")\n",
        "print(\"y_train[0]:\" ,y_train[0])\n",
        "y_train = keras.utils.to_categorical(y_train, num_classes)\n",
        "y_test = keras.utils.to_categorical(y_test, num_classes)\n",
        "print(\"y_train[0]:\" ,y_train[0])"
      ],
      "metadata": {
        "colab": {
          "base_uri": "https://localhost:8080/"
        },
        "id": "SKzKG87OZGqj",
        "outputId": "a3b14b74-2e59-4f27-c564-1b78b48c894e"
      },
      "execution_count": 23,
      "outputs": [
        {
          "output_type": "stream",
          "name": "stdout",
          "text": [
            "x_train shape:  (60000, 784, 1)\n",
            "60000 train samples\n",
            "10000 test samples\n",
            "y_train[0]: 2\n",
            "y_train[0]: [0. 0. 1. 0. 0. 0. 0. 0. 0. 0.]\n"
          ]
        }
      ]
    },
    {
      "cell_type": "code",
      "source": [
        "y_train.shape"
      ],
      "metadata": {
        "colab": {
          "base_uri": "https://localhost:8080/"
        },
        "id": "MfTqKNJJuTLL",
        "outputId": "89f8ac06-1316-4f86-e51b-ba5d40024c70"
      },
      "execution_count": 78,
      "outputs": [
        {
          "output_type": "execute_result",
          "data": {
            "text/plain": [
              "(60000, 10)"
            ]
          },
          "metadata": {},
          "execution_count": 78
        }
      ]
    },
    {
      "cell_type": "code",
      "source": [],
      "metadata": {
        "id": "1DO6dEhRZGs4"
      },
      "execution_count": 17,
      "outputs": []
    },
    {
      "cell_type": "code",
      "source": [
        "model.summary()"
      ],
      "metadata": {
        "colab": {
          "base_uri": "https://localhost:8080/"
        },
        "id": "G34AVrPrbm9F",
        "outputId": "04d58335-8d6f-4958-8668-f2a04455eeb3"
      },
      "execution_count": 18,
      "outputs": [
        {
          "output_type": "stream",
          "name": "stdout",
          "text": [
            "Model: \"sequential_1\"\n",
            "_________________________________________________________________\n",
            " Layer (type)                Output Shape              Param #   \n",
            "=================================================================\n",
            " flatten_1 (Flatten)         (None, 784)               0         \n",
            "                                                                 \n",
            " dense_4 (Dense)             (None, 256)               200960    \n",
            "                                                                 \n",
            " dense_5 (Dense)             (None, 128)               32896     \n",
            "                                                                 \n",
            " dense_6 (Dense)             (None, 64)                8256      \n",
            "                                                                 \n",
            " dense_7 (Dense)             (None, 10)                650       \n",
            "                                                                 \n",
            "=================================================================\n",
            "Total params: 242,762\n",
            "Trainable params: 242,762\n",
            "Non-trainable params: 0\n",
            "_________________________________________________________________\n"
          ]
        }
      ]
    },
    {
      "cell_type": "code",
      "source": [
        "x_train.head(1)"
      ],
      "metadata": {
        "id": "cagkEmh3gO2c"
      },
      "execution_count": null,
      "outputs": []
    },
    {
      "cell_type": "code",
      "source": [
        "# model.compile(optimizer='adam',loss='categorical_crossentropy',metrics=['accuracy'])\n",
        "batch_size = 150\n",
        "epochs = 120\n",
        "callback = EarlyStopping(monitor=\"val_loss\",min_delta=0.00001,patience=20,verbose=1,mode=\"auto\",baseline=None,restore_best_weights=False)\n",
        "model.compile(loss=\"categorical_crossentropy\", optimizer=\"adam\", metrics=[\"accuracy\"])\n",
        "model.history=model.fit(ndf, y_train, batch_size=batch_size, epochs=epochs,validation_split=0.1,callbacks=callback)"
      ],
      "metadata": {
        "colab": {
          "base_uri": "https://localhost:8080/"
        },
        "id": "M6AOxzrMcJQb",
        "outputId": "f8b47d08-1f62-428e-8212-34963c0237b4"
      },
      "execution_count": 24,
      "outputs": [
        {
          "output_type": "stream",
          "name": "stdout",
          "text": [
            "Epoch 1/120\n",
            "360/360 [==============================] - 4s 9ms/step - loss: 0.4233 - accuracy: 0.8649 - val_loss: 0.3961 - val_accuracy: 0.8652\n",
            "Epoch 2/120\n",
            "360/360 [==============================] - 3s 8ms/step - loss: 0.3503 - accuracy: 0.8753 - val_loss: 0.3704 - val_accuracy: 0.8702\n",
            "Epoch 3/120\n",
            "360/360 [==============================] - 4s 10ms/step - loss: 0.3328 - accuracy: 0.8795 - val_loss: 0.3873 - val_accuracy: 0.8657\n",
            "Epoch 4/120\n",
            "360/360 [==============================] - 4s 11ms/step - loss: 0.3286 - accuracy: 0.8808 - val_loss: 0.3549 - val_accuracy: 0.8768\n",
            "Epoch 5/120\n",
            "360/360 [==============================] - 3s 8ms/step - loss: 0.2971 - accuracy: 0.8914 - val_loss: 0.3287 - val_accuracy: 0.8853\n",
            "Epoch 6/120\n",
            "360/360 [==============================] - 3s 8ms/step - loss: 0.2866 - accuracy: 0.8946 - val_loss: 0.3610 - val_accuracy: 0.8712\n",
            "Epoch 7/120\n",
            "360/360 [==============================] - 3s 8ms/step - loss: 0.2791 - accuracy: 0.8958 - val_loss: 0.3440 - val_accuracy: 0.8830\n",
            "Epoch 8/120\n",
            "360/360 [==============================] - 3s 8ms/step - loss: 0.2722 - accuracy: 0.8982 - val_loss: 0.3486 - val_accuracy: 0.8858\n",
            "Epoch 9/120\n",
            "360/360 [==============================] - 3s 9ms/step - loss: 0.2754 - accuracy: 0.8987 - val_loss: 0.3672 - val_accuracy: 0.8815\n",
            "Epoch 10/120\n",
            "360/360 [==============================] - 3s 8ms/step - loss: 0.2625 - accuracy: 0.9026 - val_loss: 0.3556 - val_accuracy: 0.8857\n",
            "Epoch 11/120\n",
            "360/360 [==============================] - 3s 8ms/step - loss: 0.2645 - accuracy: 0.9032 - val_loss: 0.3633 - val_accuracy: 0.8780\n",
            "Epoch 12/120\n",
            "360/360 [==============================] - 3s 8ms/step - loss: 0.2566 - accuracy: 0.9053 - val_loss: 0.3605 - val_accuracy: 0.8847\n",
            "Epoch 13/120\n",
            "360/360 [==============================] - 3s 8ms/step - loss: 0.2436 - accuracy: 0.9091 - val_loss: 0.3588 - val_accuracy: 0.8813\n",
            "Epoch 14/120\n",
            "360/360 [==============================] - 3s 8ms/step - loss: 0.2460 - accuracy: 0.9088 - val_loss: 0.3483 - val_accuracy: 0.8820\n",
            "Epoch 15/120\n",
            "360/360 [==============================] - 3s 8ms/step - loss: 0.2410 - accuracy: 0.9105 - val_loss: 0.3398 - val_accuracy: 0.8907\n",
            "Epoch 16/120\n",
            "360/360 [==============================] - 3s 8ms/step - loss: 0.2328 - accuracy: 0.9133 - val_loss: 0.3419 - val_accuracy: 0.8843\n",
            "Epoch 17/120\n",
            "360/360 [==============================] - 3s 8ms/step - loss: 0.2429 - accuracy: 0.9099 - val_loss: 0.3560 - val_accuracy: 0.8870\n",
            "Epoch 18/120\n",
            "360/360 [==============================] - 3s 8ms/step - loss: 0.2246 - accuracy: 0.9154 - val_loss: 0.3719 - val_accuracy: 0.8832\n",
            "Epoch 19/120\n",
            "360/360 [==============================] - 3s 8ms/step - loss: 0.2288 - accuracy: 0.9146 - val_loss: 0.3684 - val_accuracy: 0.8830\n",
            "Epoch 20/120\n",
            "360/360 [==============================] - 3s 8ms/step - loss: 0.2227 - accuracy: 0.9166 - val_loss: 0.3855 - val_accuracy: 0.8858\n",
            "Epoch 21/120\n",
            "360/360 [==============================] - 3s 8ms/step - loss: 0.2144 - accuracy: 0.9205 - val_loss: 0.3436 - val_accuracy: 0.8860\n",
            "Epoch 22/120\n",
            "360/360 [==============================] - 4s 11ms/step - loss: 0.2170 - accuracy: 0.9194 - val_loss: 0.3541 - val_accuracy: 0.8853\n",
            "Epoch 23/120\n",
            "360/360 [==============================] - 3s 8ms/step - loss: 0.2151 - accuracy: 0.9200 - val_loss: 0.3500 - val_accuracy: 0.8895\n",
            "Epoch 24/120\n",
            "360/360 [==============================] - 3s 10ms/step - loss: 0.2057 - accuracy: 0.9236 - val_loss: 0.4085 - val_accuracy: 0.8762\n",
            "Epoch 25/120\n",
            "360/360 [==============================] - 3s 8ms/step - loss: 0.2050 - accuracy: 0.9239 - val_loss: 0.3774 - val_accuracy: 0.8857\n",
            "Epoch 25: early stopping\n"
          ]
        }
      ]
    },
    {
      "cell_type": "code",
      "source": [],
      "metadata": {
        "id": "ZnWAV7lCcJR-"
      },
      "execution_count": null,
      "outputs": []
    },
    {
      "cell_type": "code",
      "source": [],
      "metadata": {
        "id": "pUqSuyZqcJVf"
      },
      "execution_count": null,
      "outputs": []
    },
    {
      "cell_type": "code",
      "source": [],
      "metadata": {
        "id": "tTs_rIjgcJXN"
      },
      "execution_count": null,
      "outputs": []
    },
    {
      "cell_type": "code",
      "source": [],
      "metadata": {
        "id": "8TnP5P_UcJaU"
      },
      "execution_count": null,
      "outputs": []
    }
  ]
}