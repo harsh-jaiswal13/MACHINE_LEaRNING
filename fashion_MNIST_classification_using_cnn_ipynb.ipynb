{
  "nbformat": 4,
  "nbformat_minor": 0,
  "metadata": {
    "colab": {
      "provenance": [],
      "collapsed_sections": [],
      "authorship_tag": "ABX9TyPDni7lToxwWqiHV+lwCcmt",
      "include_colab_link": true
    },
    "kernelspec": {
      "name": "python3",
      "display_name": "Python 3"
    },
    "language_info": {
      "name": "python"
    },
    "accelerator": "GPU",
    "gpuClass": "standard"
  },
  "cells": [
    {
      "cell_type": "markdown",
      "metadata": {
        "id": "view-in-github",
        "colab_type": "text"
      },
      "source": [
        "<a href=\"https://colab.research.google.com/github/harsh-jaiswal13/MACHINE_Learning/blob/main/fashion_MNIST_classification_using_cnn_ipynb.ipynb\" target=\"_parent\"><img src=\"https://colab.research.google.com/assets/colab-badge.svg\" alt=\"Open In Colab\"/></a>"
      ]
    },
    {
      "cell_type": "code",
      "execution_count": 1,
      "metadata": {
        "id": "1fhsCrpHnGWh"
      },
      "outputs": [],
      "source": [
        "import numpy as np\n",
        "from tensorflow import keras\n",
        "from keras.layers import Layer\n",
        "import matplotlib.pyplot as plt\n",
        "from keras.layers import Dense,Conv2D,MaxPooling2D,Flatten,BatchNormalization,Dropout\n",
        "import tensorflow as tf\n",
        "from keras import Sequential\n",
        "from tensorflow.keras.callbacks import EarlyStopping\n"
      ]
    },
    {
      "cell_type": "code",
      "source": [
        "num_classes =10\n",
        "input_shape=(28,28,1)\n",
        "\n",
        "(x_train,y_train),(x_test,y_test)=tf.keras.datasets.fashion_mnist.load_data()\n",
        "\n",
        "x_train=x_train.astype(\"float32\")/255\n",
        "x_test=x_test.astype(\"float32\")/255\n"
      ],
      "metadata": {
        "id": "L2-kMJHgnItZ"
      },
      "execution_count": 13,
      "outputs": []
    },
    {
      "cell_type": "code",
      "source": [
        "x_train[0]\n",
        "plt.imshow(x_train[0])"
      ],
      "metadata": {
        "colab": {
          "base_uri": "https://localhost:8080/",
          "height": 282
        },
        "id": "vpVSlwoaat1w",
        "outputId": "6319b9ba-a51d-4ae2-8f11-8fee8deff000"
      },
      "execution_count": 12,
      "outputs": [
        {
          "output_type": "execute_result",
          "data": {
            "text/plain": [
              "<matplotlib.image.AxesImage at 0x7f4b182d73d0>"
            ]
          },
          "metadata": {},
          "execution_count": 12
        },
        {
          "output_type": "display_data",
          "data": {
            "text/plain": [
              "<Figure size 432x288 with 1 Axes>"
            ],
            "image/png": "[encoded data removed]"
          },
          "metadata": {
            "needs_background": "light"
          }
        }
      ]
    },
    {
      "cell_type": "code",
      "source": [
        "print(x_train.shape)\n",
        "x_train=np.expand_dims(x_train,-1)\n",
        "x_test=np.expand_dims(x_test,-1)\n",
        "\n",
        "print(\"x_train shape: \",x_train.shape)\n",
        "\n",
        "# print(\"y_train[0]:\" ,y_train[0])\n",
        "y_train = keras.utils.to_categorical(y_train, num_classes)\n",
        "y_test = keras.utils.to_categorical(y_test, num_classes)\n",
        "print(\"y_train[0]:\" ,y_train[0])\n"
      ],
      "metadata": {
        "colab": {
          "base_uri": "https://localhost:8080/"
        },
        "id": "KJIJa0urarI5",
        "outputId": "fcc91b41-1ada-4c20-97c1-72287b509c69"
      },
      "execution_count": 14,
      "outputs": [
        {
          "output_type": "stream",
          "name": "stdout",
          "text": [
            "(60000, 28, 28)\n",
            "x_train shape:  (60000, 28, 28, 1)\n",
            "y_train[0]: [0. 0. 0. 0. 0. 0. 0. 0. 0. 1.]\n"
          ]
        }
      ]
    },
    {
      "cell_type": "code",
      "source": [
        "y_test[0]"
      ],
      "metadata": {
        "colab": {
          "base_uri": "https://localhost:8080/"
        },
        "id": "0a-qnL8v2u4_",
        "outputId": "bb4e7f5a-f1f5-45d5-aa2a-c556de9cd51a"
      },
      "execution_count": 15,
      "outputs": [
        {
          "output_type": "execute_result",
          "data": {
            "text/plain": [
              "array([0., 0., 0., 0., 0., 0., 0., 0., 0., 1.], dtype=float32)"
            ]
          },
          "metadata": {},
          "execution_count": 15
        }
      ]
    },
    {
      "cell_type": "code",
      "source": [
        "\n",
        "print(x_train.shape[0],\"train samples\")\n",
        "print(x_test.shape[0],\"test samples\")\n",
        "print(\"y_train[0]:\" ,y_train[0])\n",
        "# print(\"y_train[0]:\" ,y_train[0])\n"
      ],
      "metadata": {
        "colab": {
          "base_uri": "https://localhost:8080/"
        },
        "id": "va8fGGkDy67b",
        "outputId": "b02d0952-3e23-490d-cdc3-748deb9a3965"
      },
      "execution_count": 24,
      "outputs": [
        {
          "output_type": "stream",
          "name": "stdout",
          "text": [
            "60000 train samples\n",
            "10000 test samples\n",
            "y_train[0]: [0. 0. 0. 0. 0. 0. 0. 0. 0. 1.]\n"
          ]
        }
      ]
    },
    {
      "cell_type": "code",
      "source": [
        "x_train[0]"
      ],
      "metadata": {
        "id": "wkBKpDjINneG"
      },
      "execution_count": null,
      "outputs": []
    },
    {
      "cell_type": "code",
      "source": [
        "type(x_train)"
      ],
      "metadata": {
        "colab": {
          "base_uri": "https://localhost:8080/"
        },
        "id": "VFQNtonkjWit",
        "outputId": "d00af1b8-71f7-4849-97af-068c8de9b6c5"
      },
      "execution_count": 17,
      "outputs": [
        {
          "output_type": "execute_result",
          "data": {
            "text/plain": [
              "numpy.ndarray"
            ]
          },
          "metadata": {},
          "execution_count": 17
        }
      ]
    },
    {
      "cell_type": "code",
      "source": [
        "model=Sequential()\n",
        "\n",
        "model.add(Conv2D(32,kernel_size=(3,3),activation='relu',input_shape=(28,28,1)))\n",
        "model.add(MaxPooling2D(pool_size=(2,2)))\n",
        "\n",
        "model.add(Conv2D(64,kernel_size=(3,3),activation='relu'))\n",
        "model.add(MaxPooling2D(pool_size=(2,2)))\n",
        "\n",
        "# model.add(Flatten(input_shape=(28,28,1)))\n",
        "model.add(Flatten())\n",
        "# model.add(Dense(256,activation='relu'))\n",
        "# model.add(Dropout(.4))\n",
        "\n",
        "model.add(Dense(128,activation='relu'))\n",
        "model.add(Dropout(.3))\n",
        "\n",
        "model.add(Dense(64,activation='relu'))\n",
        "\n",
        "model.add(Dense(num_classes,activation='softmax'))\n",
        "model.summary()"
      ],
      "metadata": {
        "id": "jaX9A_8NnI4R",
        "colab": {
          "base_uri": "https://localhost:8080/"
        },
        "outputId": "ff11bb46-15ce-4a84-d844-4e0206e2251d"
      },
      "execution_count": 18,
      "outputs": [
        {
          "output_type": "stream",
          "name": "stdout",
          "text": [
            "Model: \"sequential\"\n",
            "_________________________________________________________________\n",
            " Layer (type)                Output Shape              Param #   \n",
            "=================================================================\n",
            " conv2d (Conv2D)             (None, 26, 26, 32)        320       \n",
            "                                                                 \n",
            " max_pooling2d (MaxPooling2D  (None, 13, 13, 32)       0         \n",
            " )                                                               \n",
            "                                                                 \n",
            " conv2d_1 (Conv2D)           (None, 11, 11, 64)        18496     \n",
            "                                                                 \n",
            " max_pooling2d_1 (MaxPooling  (None, 5, 5, 64)         0         \n",
            " 2D)                                                             \n",
            "                                                                 \n",
            " flatten (Flatten)           (None, 1600)              0         \n",
            "                                                                 \n",
            " dense (Dense)               (None, 128)               204928    \n",
            "                                                                 \n",
            " dropout (Dropout)           (None, 128)               0         \n",
            "                                                                 \n",
            " dense_1 (Dense)             (None, 64)                8256      \n",
            "                                                                 \n",
            " dense_2 (Dense)             (None, 10)                650       \n",
            "                                                                 \n",
            "=================================================================\n",
            "Total params: 232,650\n",
            "Trainable params: 232,650\n",
            "Non-trainable params: 0\n",
            "_________________________________________________________________\n"
          ]
        }
      ]
    },
    {
      "cell_type": "code",
      "source": [
        "batch_size = 150\n",
        "epochs = 120\n",
        "callback = EarlyStopping(monitor=\"val_loss\",min_delta=0.00001,patience=20,verbose=1,mode=\"auto\",baseline=None,restore_best_weights=False)\n",
        "model.compile(loss=\"categorical_crossentropy\", optimizer=\"adam\", metrics=[\"accuracy\"])\n",
        "model.history=model.fit(x_train, y_train, batch_size=batch_size, epochs=epochs,validation_split=0.1,callbacks=callback)"
      ],
      "metadata": {
        "colab": {
          "base_uri": "https://localhost:8080/"
        },
        "id": "k6tOhTRucSBC",
        "outputId": "7ac3efd4-5318-4764-bd02-0cf791d6f00c"
      },
      "execution_count": 19,
      "outputs": [
        {
          "output_type": "stream",
          "name": "stdout",
          "text": [
            "Epoch 1/120\n",
            "360/360 [==============================] - 12s 6ms/step - loss: 0.6750 - accuracy: 0.7509 - val_loss: 0.4212 - val_accuracy: 0.8452\n",
            "Epoch 2/120\n",
            "360/360 [==============================] - 2s 5ms/step - loss: 0.4236 - accuracy: 0.8469 - val_loss: 0.3528 - val_accuracy: 0.8708\n",
            "Epoch 3/120\n",
            "360/360 [==============================] - 2s 6ms/step - loss: 0.3604 - accuracy: 0.8704 - val_loss: 0.3154 - val_accuracy: 0.8843\n",
            "Epoch 4/120\n",
            "360/360 [==============================] - 2s 6ms/step - loss: 0.3212 - accuracy: 0.8832 - val_loss: 0.2981 - val_accuracy: 0.8887\n",
            "Epoch 5/120\n",
            "360/360 [==============================] - 2s 6ms/step - loss: 0.3000 - accuracy: 0.8908 - val_loss: 0.2790 - val_accuracy: 0.9003\n",
            "Epoch 6/120\n",
            "360/360 [==============================] - 2s 6ms/step - loss: 0.2765 - accuracy: 0.8990 - val_loss: 0.2660 - val_accuracy: 0.9042\n",
            "Epoch 7/120\n",
            "360/360 [==============================] - 2s 6ms/step - loss: 0.2599 - accuracy: 0.9047 - val_loss: 0.2571 - val_accuracy: 0.9063\n",
            "Epoch 8/120\n",
            "360/360 [==============================] - 2s 5ms/step - loss: 0.2422 - accuracy: 0.9108 - val_loss: 0.2573 - val_accuracy: 0.9068\n",
            "Epoch 9/120\n",
            "360/360 [==============================] - 2s 5ms/step - loss: 0.2312 - accuracy: 0.9148 - val_loss: 0.2497 - val_accuracy: 0.9093\n",
            "Epoch 10/120\n",
            "360/360 [==============================] - 2s 5ms/step - loss: 0.2182 - accuracy: 0.9195 - val_loss: 0.2427 - val_accuracy: 0.9112\n",
            "Epoch 11/120\n",
            "360/360 [==============================] - 2s 5ms/step - loss: 0.2074 - accuracy: 0.9234 - val_loss: 0.2339 - val_accuracy: 0.9155\n",
            "Epoch 12/120\n",
            "360/360 [==============================] - 2s 6ms/step - loss: 0.1962 - accuracy: 0.9280 - val_loss: 0.2375 - val_accuracy: 0.9133\n",
            "Epoch 13/120\n",
            "360/360 [==============================] - 2s 6ms/step - loss: 0.1868 - accuracy: 0.9295 - val_loss: 0.2309 - val_accuracy: 0.9172\n",
            "Epoch 14/120\n",
            "360/360 [==============================] - 2s 6ms/step - loss: 0.1740 - accuracy: 0.9350 - val_loss: 0.2243 - val_accuracy: 0.9170\n",
            "Epoch 15/120\n",
            "360/360 [==============================] - 2s 5ms/step - loss: 0.1643 - accuracy: 0.9376 - val_loss: 0.2630 - val_accuracy: 0.9097\n",
            "Epoch 16/120\n",
            "360/360 [==============================] - 2s 6ms/step - loss: 0.1599 - accuracy: 0.9402 - val_loss: 0.2456 - val_accuracy: 0.9180\n",
            "Epoch 17/120\n",
            "360/360 [==============================] - 2s 6ms/step - loss: 0.1458 - accuracy: 0.9456 - val_loss: 0.2462 - val_accuracy: 0.9173\n",
            "Epoch 18/120\n",
            "360/360 [==============================] - 2s 5ms/step - loss: 0.1429 - accuracy: 0.9455 - val_loss: 0.2422 - val_accuracy: 0.9185\n",
            "Epoch 19/120\n",
            "360/360 [==============================] - 2s 6ms/step - loss: 0.1337 - accuracy: 0.9491 - val_loss: 0.2394 - val_accuracy: 0.9190\n",
            "Epoch 20/120\n",
            "360/360 [==============================] - 2s 5ms/step - loss: 0.1297 - accuracy: 0.9508 - val_loss: 0.2543 - val_accuracy: 0.9148\n",
            "Epoch 21/120\n",
            "360/360 [==============================] - 2s 6ms/step - loss: 0.1234 - accuracy: 0.9530 - val_loss: 0.2529 - val_accuracy: 0.9222\n",
            "Epoch 22/120\n",
            "360/360 [==============================] - 2s 5ms/step - loss: 0.1161 - accuracy: 0.9552 - val_loss: 0.2359 - val_accuracy: 0.9208\n",
            "Epoch 23/120\n",
            "360/360 [==============================] - 2s 6ms/step - loss: 0.1099 - accuracy: 0.9591 - val_loss: 0.2513 - val_accuracy: 0.9225\n",
            "Epoch 24/120\n",
            "360/360 [==============================] - 2s 5ms/step - loss: 0.1044 - accuracy: 0.9597 - val_loss: 0.2630 - val_accuracy: 0.9182\n",
            "Epoch 25/120\n",
            "360/360 [==============================] - 2s 6ms/step - loss: 0.1036 - accuracy: 0.9604 - val_loss: 0.2554 - val_accuracy: 0.9183\n",
            "Epoch 26/120\n",
            "360/360 [==============================] - 2s 6ms/step - loss: 0.0992 - accuracy: 0.9620 - val_loss: 0.2645 - val_accuracy: 0.9237\n",
            "Epoch 27/120\n",
            "360/360 [==============================] - 2s 6ms/step - loss: 0.0926 - accuracy: 0.9650 - val_loss: 0.2731 - val_accuracy: 0.9197\n",
            "Epoch 28/120\n",
            "360/360 [==============================] - 2s 6ms/step - loss: 0.0857 - accuracy: 0.9666 - val_loss: 0.2920 - val_accuracy: 0.9165\n",
            "Epoch 29/120\n",
            "360/360 [==============================] - 2s 6ms/step - loss: 0.0848 - accuracy: 0.9686 - val_loss: 0.2728 - val_accuracy: 0.9197\n",
            "Epoch 30/120\n",
            "360/360 [==============================] - 2s 6ms/step - loss: 0.0822 - accuracy: 0.9685 - val_loss: 0.2974 - val_accuracy: 0.9155\n",
            "Epoch 31/120\n",
            "360/360 [==============================] - 2s 6ms/step - loss: 0.0790 - accuracy: 0.9696 - val_loss: 0.3251 - val_accuracy: 0.9152\n",
            "Epoch 32/120\n",
            "360/360 [==============================] - 2s 6ms/step - loss: 0.0729 - accuracy: 0.9718 - val_loss: 0.3224 - val_accuracy: 0.9228\n",
            "Epoch 33/120\n",
            "360/360 [==============================] - 2s 6ms/step - loss: 0.0741 - accuracy: 0.9712 - val_loss: 0.3105 - val_accuracy: 0.9182\n",
            "Epoch 34/120\n",
            "360/360 [==============================] - 2s 6ms/step - loss: 0.0705 - accuracy: 0.9726 - val_loss: 0.3178 - val_accuracy: 0.9188\n",
            "Epoch 34: early stopping\n"
          ]
        }
      ]
    },
    {
      "cell_type": "code",
      "source": [
        "plt.plot(model.history.history['accuracy'],color='red',label='train')\n",
        "plt.plot(model.history.history['val_accuracy'],color='blue',label='validation')\n",
        "plt.legend()\n",
        "plt.show()\n",
        "# val_accuracy: 0.9930"
      ],
      "metadata": {
        "id": "gBWcjZnBmS8K",
        "colab": {
          "base_uri": "https://localhost:8080/",
          "height": 265
        },
        "outputId": "402dc502-33d5-4724-c773-adb0c5a4b043"
      },
      "execution_count": 20,
      "outputs": [
        {
          "output_type": "display_data",
          "data": {
            "text/plain": [
              "<Figure size 432x288 with 1 Axes>"
            ],
            "image/png": "[encoded data removed]"
          },
          "metadata": {
            "needs_background": "light"
          }
        }
      ]
    },
    {
      "cell_type": "code",
      "source": [],
      "metadata": {
        "id": "rbY7b2GYjBeA"
      },
      "execution_count": null,
      "outputs": []
    },
    {
      "cell_type": "code",
      "source": [
        "# y_pred = keras.utils.to_categorical(y_pred, num_classes)\n",
        "score = model.evaluate(x_test, y_test, verbose=0)"
      ],
      "metadata": {
        "id": "-aoXxBBI0joj"
      },
      "execution_count": 25,
      "outputs": []
    },
    {
      "cell_type": "code",
      "source": [
        "score"
      ],
      "metadata": {
        "colab": {
          "base_uri": "https://localhost:8080/"
        },
        "id": "apOpynu0zG-p",
        "outputId": "0abcdeea-e2dc-4d72-988f-4afdd7644d1a"
      },
      "execution_count": 22,
      "outputs": [
        {
          "output_type": "execute_result",
          "data": {
            "text/plain": [
              "[0.34505099058151245, 0.9135000109672546]"
            ]
          },
          "metadata": {},
          "execution_count": 22
        }
      ]
    },
    {
      "cell_type": "code",
      "source": [],
      "metadata": {
        "id": "JMjgWhKbzHA8"
      },
      "execution_count": 14,
      "outputs": []
    },
    {
      "cell_type": "code",
      "source": [],
      "metadata": {
        "id": "_xhshW6ZzHDa"
      },
      "execution_count": 14,
      "outputs": []
    },
    {
      "cell_type": "code",
      "source": [],
      "metadata": {
        "id": "Px4yQIKGzHGw"
      },
      "execution_count": 14,
      "outputs": []
    },
    {
      "cell_type": "code",
      "source": [],
      "metadata": {
        "id": "GtLRCpEYzHIr"
      },
      "execution_count": 14,
      "outputs": []
    },
    {
      "cell_type": "code",
      "source": [],
      "metadata": {
        "id": "BZokFemwzHKi"
      },
      "execution_count": 14,
      "outputs": []
    },
    {
      "cell_type": "code",
      "source": [
        "# input_dim=784\n",
        "mod=Sequential()\n",
        "mod.add(Flatten(input_shape=(28,28,1)))\n",
        "mod.add(Dense(256,activation='relu'))\n",
        "mod.add(Dense(128,activation='relu'))\n",
        "mod.add(Dense(64,activation='relu'))\n",
        "mod.add(Dense(10, activation='sigmoid'))"
      ],
      "metadata": {
        "id": "I0RCm41BzHMy"
      },
      "execution_count": 26,
      "outputs": []
    },
    {
      "cell_type": "code",
      "source": [],
      "metadata": {
        "colab": {
          "base_uri": "https://localhost:8080/"
        },
        "id": "Y5uxVY-8zHQc",
        "outputId": "99e52b1f-0871-41a5-8933-649153f6aa6a"
      },
      "execution_count": 27,
      "outputs": [
        {
          "output_type": "stream",
          "name": "stdout",
          "text": [
            "Epoch 1/120\n",
            "360/360 [==============================] - 5s 12ms/step - loss: 0.0690 - accuracy: 0.9741 - val_loss: 0.3482 - val_accuracy: 0.9212\n",
            "Epoch 2/120\n",
            "360/360 [==============================] - 3s 7ms/step - loss: 0.0663 - accuracy: 0.9746 - val_loss: 0.3410 - val_accuracy: 0.9215\n",
            "Epoch 3/120\n",
            "360/360 [==============================] - 2s 6ms/step - loss: 0.0636 - accuracy: 0.9749 - val_loss: 0.3368 - val_accuracy: 0.9227\n",
            "Epoch 4/120\n",
            "360/360 [==============================] - 2s 6ms/step - loss: 0.0638 - accuracy: 0.9763 - val_loss: 0.3624 - val_accuracy: 0.9188\n",
            "Epoch 5/120\n",
            "360/360 [==============================] - 2s 6ms/step - loss: 0.0594 - accuracy: 0.9775 - val_loss: 0.3486 - val_accuracy: 0.9170\n",
            "Epoch 6/120\n",
            "360/360 [==============================] - 2s 6ms/step - loss: 0.0620 - accuracy: 0.9766 - val_loss: 0.3554 - val_accuracy: 0.9205\n",
            "Epoch 7/120\n",
            "360/360 [==============================] - 2s 6ms/step - loss: 0.0561 - accuracy: 0.9784 - val_loss: 0.3748 - val_accuracy: 0.9212\n",
            "Epoch 8/120\n",
            "360/360 [==============================] - 2s 6ms/step - loss: 0.0578 - accuracy: 0.9777 - val_loss: 0.3864 - val_accuracy: 0.9155\n",
            "Epoch 9/120\n",
            "360/360 [==============================] - 2s 5ms/step - loss: 0.0532 - accuracy: 0.9799 - val_loss: 0.3856 - val_accuracy: 0.9167\n",
            "Epoch 10/120\n",
            "360/360 [==============================] - 2s 6ms/step - loss: 0.0566 - accuracy: 0.9786 - val_loss: 0.3501 - val_accuracy: 0.9220\n",
            "Epoch 11/120\n",
            "360/360 [==============================] - 2s 6ms/step - loss: 0.0520 - accuracy: 0.9807 - val_loss: 0.3723 - val_accuracy: 0.9205\n",
            "Epoch 12/120\n",
            "360/360 [==============================] - 2s 5ms/step - loss: 0.0508 - accuracy: 0.9807 - val_loss: 0.3752 - val_accuracy: 0.9138\n",
            "Epoch 13/120\n",
            "360/360 [==============================] - 2s 6ms/step - loss: 0.0517 - accuracy: 0.9807 - val_loss: 0.4302 - val_accuracy: 0.9173\n",
            "Epoch 14/120\n",
            "360/360 [==============================] - 2s 5ms/step - loss: 0.0470 - accuracy: 0.9819 - val_loss: 0.4286 - val_accuracy: 0.9203\n",
            "Epoch 15/120\n",
            "360/360 [==============================] - 2s 6ms/step - loss: 0.0496 - accuracy: 0.9810 - val_loss: 0.3960 - val_accuracy: 0.9173\n",
            "Epoch 16/120\n",
            "360/360 [==============================] - 2s 6ms/step - loss: 0.0500 - accuracy: 0.9811 - val_loss: 0.4150 - val_accuracy: 0.9165\n",
            "Epoch 17/120\n",
            "360/360 [==============================] - 2s 6ms/step - loss: 0.0484 - accuracy: 0.9814 - val_loss: 0.3919 - val_accuracy: 0.9187\n",
            "Epoch 18/120\n",
            "360/360 [==============================] - 2s 6ms/step - loss: 0.0466 - accuracy: 0.9821 - val_loss: 0.3914 - val_accuracy: 0.9215\n",
            "Epoch 19/120\n",
            "360/360 [==============================] - 2s 6ms/step - loss: 0.0457 - accuracy: 0.9825 - val_loss: 0.3830 - val_accuracy: 0.9183\n",
            "Epoch 20/120\n",
            "360/360 [==============================] - 2s 5ms/step - loss: 0.0419 - accuracy: 0.9841 - val_loss: 0.4426 - val_accuracy: 0.9220\n",
            "Epoch 21/120\n",
            "360/360 [==============================] - 2s 6ms/step - loss: 0.0469 - accuracy: 0.9823 - val_loss: 0.4636 - val_accuracy: 0.9163\n",
            "Epoch 22/120\n",
            "360/360 [==============================] - 2s 6ms/step - loss: 0.0447 - accuracy: 0.9831 - val_loss: 0.4278 - val_accuracy: 0.9183\n",
            "Epoch 23/120\n",
            "360/360 [==============================] - 2s 6ms/step - loss: 0.0394 - accuracy: 0.9847 - val_loss: 0.4382 - val_accuracy: 0.9158\n",
            "Epoch 23: early stopping\n"
          ]
        }
      ]
    },
    {
      "cell_type": "code",
      "source": [],
      "metadata": {
        "colab": {
          "base_uri": "https://localhost:8080/",
          "height": 265
        },
        "id": "DWLnRdGLjDVM",
        "outputId": "9c36b811-d31b-46cc-b5cb-f551d67377cc"
      },
      "execution_count": 28,
      "outputs": [
        {
          "output_type": "display_data",
          "data": {
            "text/plain": [
              "<Figure size 432x288 with 1 Axes>"
            ],
            "image/png": "[encoded data removed]"
          },
          "metadata": {
            "needs_background": "light"
          }
        }
      ]
    },
    {
      "cell_type": "code",
      "source": [],
      "metadata": {
        "id": "OmSdTsSYjDgl"
      },
      "execution_count": null,
      "outputs": []
    },
    {
      "cell_type": "code",
      "source": [],
      "metadata": {
        "id": "nIeiMGPbjDiO"
      },
      "execution_count": null,
      "outputs": []
    },
    {
      "cell_type": "code",
      "source": [],
      "metadata": {
        "id": "dmZU3CHGjDmP"
      },
      "execution_count": null,
      "outputs": []
    },
    {
      "cell_type": "code",
      "source": [],
      "metadata": {
        "id": "AE5YLRuXjDoc"
      },
      "execution_count": null,
      "outputs": []
    }
  ]
}