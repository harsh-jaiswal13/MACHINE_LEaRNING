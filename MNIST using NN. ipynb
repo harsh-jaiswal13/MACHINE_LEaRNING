{
  "nbformat": 4,
  "nbformat_minor": 0,
  "metadata": {
    "colab": {
      "provenance": [],
      "collapsed_sections": [],
      "authorship_tag": "ABX9TyOBGd83/SBU4qjKLV00bY71",
      "include_colab_link": true
    },
    "kernelspec": {
      "name": "python3",
      "display_name": "Python 3"
    },
    "language_info": {
      "name": "python"
    }
  },
  "cells": [
    {
      "cell_type": "markdown",
      "metadata": {
        "id": "view-in-github",
        "colab_type": "text"
      },
      "source": [
        "<a href=\"https://colab.research.google.com/github/harsh-jaiswal13/MACHINE_Learning/blob/main/MNIST%20using%20NN.%20ipynb\" target=\"_parent\"><img src=\"https://colab.research.google.com/assets/colab-badge.svg\" alt=\"Open In Colab\"/></a>"
      ]
    },
    {
      "cell_type": "code",
      "execution_count": 81,
      "metadata": {
        "id": "1fhsCrpHnGWh"
      },
      "outputs": [],
      "source": [
        "import numpy as np\n",
        "from tensorflow import keras\n",
        "from keras.layers import Layer\n",
        "import matplotlib.pyplot as plt\n",
        "from keras.layers import Dense,Conv2D,MaxPooling2D,Flatten,BatchNormalization,Dropout\n",
        "import tensorflow as tf\n",
        "from keras import Sequential"
      ]
    },
    {
      "cell_type": "code",
      "source": [
        "num_classes =10\n",
        "input_shape=(28,28,1)\n",
        "\n",
        "(x_train,y_train),(x_test,y_test)=keras.datasets.mnist.load_data()\n",
        "\n",
        "x_train=x_train.astype(\"float32\")/255\n",
        "x_test=x_test.astype(\"float32\")/255\n",
        "\n",
        "print(x_train.shape)\n",
        "x_train=np.expand_dims(x_train,-1)\n",
        "x_test=np.expand_dims(x_test,-1)\n",
        "\n",
        "\n",
        "print(\"x_train shape: \",x_train.shape)\n",
        "print(x_train.shape[0],\"train samples\")\n",
        "print(x_test.shape[0],\"test samples\")\n",
        "print(\"y_train[0]:\" ,y_train[0])\n",
        "y_train = keras.utils.to_categorical(y_train, num_classes)\n",
        "y_test = keras.utils.to_categorical(y_test, num_classes)\n",
        "print(\"y_train[0]:\" ,y_train[0])\n"
      ],
      "metadata": {
        "id": "L2-kMJHgnItZ",
        "colab": {
          "base_uri": "https://localhost:8080/"
        },
        "outputId": "882733ce-7616-4b31-a8be-22c40f312504"
      },
      "execution_count": 102,
      "outputs": [
        {
          "output_type": "stream",
          "name": "stdout",
          "text": [
            "(60000, 28, 28)\n",
            "x_train shape:  (60000, 28, 28, 1)\n",
            "60000 train samples\n",
            "10000 test samples\n",
            "y_train[0]: 5\n",
            "y_train[0]: [0. 0. 0. 0. 0. 1. 0. 0. 0. 0.]\n"
          ]
        }
      ]
    },
    {
      "cell_type": "code",
      "source": [
        "batch_size = 128\n",
        "epochs = 15\n",
        "\n",
        "model.compile(loss=\"categorical_crossentropy\", optimizer=\"adam\", metrics=[\"accuracy\"])\n",
        "\n",
        "model.history=model.fit(x_train, y_train, batch_size=batch_size, epochs=epochs,validation_split=0.1)"
      ],
      "metadata": {
        "colab": {
          "base_uri": "https://localhost:8080/"
        },
        "id": "k6tOhTRucSBC",
        "outputId": "8fbab33c-49a7-4df5-adb7-e51ff2743a18"
      },
      "execution_count": 114,
      "outputs": [
        {
          "output_type": "stream",
          "name": "stdout",
          "text": [
            "Epoch 1/15\n",
            "422/422 [==============================] - 49s 113ms/step - loss: 0.0294 - accuracy: 0.9901 - val_loss: 0.0148 - val_accuracy: 0.9962\n",
            "Epoch 2/15\n",
            "422/422 [==============================] - 46s 109ms/step - loss: 0.0292 - accuracy: 0.9908 - val_loss: 0.0146 - val_accuracy: 0.9970\n",
            "Epoch 3/15\n",
            "422/422 [==============================] - 46s 109ms/step - loss: 0.0270 - accuracy: 0.9913 - val_loss: 0.0154 - val_accuracy: 0.9957\n",
            "Epoch 4/15\n",
            "422/422 [==============================] - 46s 109ms/step - loss: 0.0272 - accuracy: 0.9914 - val_loss: 0.0178 - val_accuracy: 0.9947\n",
            "Epoch 5/15\n",
            "422/422 [==============================] - 46s 109ms/step - loss: 0.0248 - accuracy: 0.9915 - val_loss: 0.0172 - val_accuracy: 0.9953\n",
            "Epoch 6/15\n",
            "422/422 [==============================] - 46s 109ms/step - loss: 0.0237 - accuracy: 0.9921 - val_loss: 0.0203 - val_accuracy: 0.9948\n",
            "Epoch 7/15\n",
            "422/422 [==============================] - 46s 110ms/step - loss: 0.0247 - accuracy: 0.9921 - val_loss: 0.0193 - val_accuracy: 0.9947\n",
            "Epoch 8/15\n",
            "422/422 [==============================] - 46s 109ms/step - loss: 0.0230 - accuracy: 0.9924 - val_loss: 0.0208 - val_accuracy: 0.9933\n",
            "Epoch 9/15\n",
            "422/422 [==============================] - 46s 108ms/step - loss: 0.0228 - accuracy: 0.9924 - val_loss: 0.0208 - val_accuracy: 0.9933\n",
            "Epoch 10/15\n",
            "422/422 [==============================] - 46s 108ms/step - loss: 0.0216 - accuracy: 0.9926 - val_loss: 0.0201 - val_accuracy: 0.9948\n",
            "Epoch 11/15\n",
            "422/422 [==============================] - 46s 109ms/step - loss: 0.0221 - accuracy: 0.9923 - val_loss: 0.0208 - val_accuracy: 0.9942\n",
            "Epoch 12/15\n",
            "422/422 [==============================] - 46s 109ms/step - loss: 0.0204 - accuracy: 0.9932 - val_loss: 0.0201 - val_accuracy: 0.9947\n",
            "Epoch 13/15\n",
            "422/422 [==============================] - 46s 108ms/step - loss: 0.0197 - accuracy: 0.9931 - val_loss: 0.0206 - val_accuracy: 0.9942\n",
            "Epoch 14/15\n",
            "422/422 [==============================] - 46s 108ms/step - loss: 0.0204 - accuracy: 0.9928 - val_loss: 0.0228 - val_accuracy: 0.9940\n",
            "Epoch 15/15\n",
            "422/422 [==============================] - 46s 108ms/step - loss: 0.0196 - accuracy: 0.9931 - val_loss: 0.0221 - val_accuracy: 0.9930\n"
          ]
        }
      ]
    },
    {
      "cell_type": "code",
      "source": [
        "a=[ [[1,2],[3,4]],\n",
        "    [[5,6],[7,8]]\n",
        "  ]\n",
        "a=np.array(a)\n",
        "a.shape"
      ],
      "metadata": {
        "id": "j_4Op71gnIvK",
        "colab": {
          "base_uri": "https://localhost:8080/"
        },
        "outputId": "38296069-2980-4870-bf03-6b5ff7a2c15e"
      },
      "execution_count": null,
      "outputs": [
        {
          "output_type": "execute_result",
          "data": {
            "text/plain": [
              "(2, 2, 2)"
            ]
          },
          "metadata": {},
          "execution_count": 17
        }
      ]
    },
    {
      "cell_type": "code",
      "source": [
        "# print(a)\n",
        "# print(np.expand_dims(a,-1).shape)\n",
        "# print(np.expand_dims(a,-1))\n",
        "print(np.squeeze(x_train[0]).shape)\n",
        "plt.imshow(np.squeeze(x_train[0]))"
      ],
      "metadata": {
        "id": "5V48FhY2nIyo",
        "colab": {
          "base_uri": "https://localhost:8080/",
          "height": 300
        },
        "outputId": "bce3bf16-efad-4153-9055-15dbb9e0666b"
      },
      "execution_count": 119,
      "outputs": [
        {
          "output_type": "stream",
          "name": "stdout",
          "text": [
            "(28, 28)\n"
          ]
        },
        {
          "output_type": "execute_result",
          "data": {
            "text/plain": [
              "<matplotlib.image.AxesImage at 0x7ff9390c1e50>"
            ]
          },
          "metadata": {},
          "execution_count": 119
        },
        {
          "output_type": "display_data",
          "data": {
            "text/plain": [
              "<Figure size 432x288 with 1 Axes>"
            ],
            "image/png": "[encoded data removed]"
          },
          "metadata": {
            "needs_background": "light"
          }
        }
      ]
    },
    {
      "cell_type": "code",
      "source": [
        "model=Sequential()\n",
        "\n",
        "model.add(Conv2D(32,kernel_size=(3,3),activation='relu',input_shape=(28,28,1)))\n",
        "model.add(MaxPooling2D(pool_size=(2,2)))\n",
        "\n",
        "\n",
        "model.add(Conv2D(64,kernel_size=(3,3),activation='relu'))\n",
        "model.add(MaxPooling2D(pool_size=(2,2)))\n",
        "\n",
        "model.add(Flatten())\n",
        "\n",
        "model.add(Dropout(.5))\n",
        "model.add(Dense(128,activation='relu'))\n",
        "model.add(Dense(num_classes,activation='softmax'))\n",
        "model.summary()\n"
      ],
      "metadata": {
        "id": "jaX9A_8NnI4R",
        "colab": {
          "base_uri": "https://localhost:8080/"
        },
        "outputId": "bb0dc1ed-445e-4e28-f406-417a9083d0ea"
      },
      "execution_count": 120,
      "outputs": [
        {
          "output_type": "stream",
          "name": "stdout",
          "text": [
            "Model: \"sequential_23\"\n",
            "_________________________________________________________________\n",
            " Layer (type)                Output Shape              Param #   \n",
            "=================================================================\n",
            " conv2d_57 (Conv2D)          (None, 26, 26, 32)        320       \n",
            "                                                                 \n",
            " max_pooling2d_57 (MaxPoolin  (None, 13, 13, 32)       0         \n",
            " g2D)                                                            \n",
            "                                                                 \n",
            " conv2d_58 (Conv2D)          (None, 11, 11, 64)        18496     \n",
            "                                                                 \n",
            " max_pooling2d_58 (MaxPoolin  (None, 5, 5, 64)         0         \n",
            " g2D)                                                            \n",
            "                                                                 \n",
            " flatten_28 (Flatten)        (None, 1600)              0         \n",
            "                                                                 \n",
            " dropout_28 (Dropout)        (None, 1600)              0         \n",
            "                                                                 \n",
            " dense_25 (Dense)            (None, 128)               204928    \n",
            "                                                                 \n",
            " dense_26 (Dense)            (None, 10)                1290      \n",
            "                                                                 \n",
            "=================================================================\n",
            "Total params: 225,034\n",
            "Trainable params: 225,034\n",
            "Non-trainable params: 0\n",
            "_________________________________________________________________\n"
          ]
        }
      ]
    },
    {
      "cell_type": "code",
      "source": [
        "batch_size = 128\n",
        "epochs = 15\n",
        "\n",
        "model.compile(loss=\"categorical_crossentropy\", optimizer=\"adam\", metrics=[\"accuracy\"])\n",
        "model.history=model.fit(x_train,y_train,batch_size=128, epochs=15)\n"
      ],
      "metadata": {
        "colab": {
          "base_uri": "https://localhost:8080/"
        },
        "id": "cMLU58FcPBJx",
        "outputId": "978141f2-2b57-46df-c6bf-98677d910f7f"
      },
      "execution_count": 118,
      "outputs": [
        {
          "output_type": "stream",
          "name": "stdout",
          "text": [
            "Epoch 1/15\n",
            "469/469 [==============================] - 53s 110ms/step - loss: 0.1739 - accuracy: 0.9461\n",
            "Epoch 2/15\n",
            "469/469 [==============================] - 54s 115ms/step - loss: 0.0792 - accuracy: 0.9754\n",
            "Epoch 3/15\n",
            "469/469 [==============================] - 53s 113ms/step - loss: 0.0588 - accuracy: 0.9809\n",
            "Epoch 4/15\n",
            "469/469 [==============================] - 52s 111ms/step - loss: 0.0488 - accuracy: 0.9849\n",
            "Epoch 5/15\n",
            "469/469 [==============================] - 52s 112ms/step - loss: 0.0430 - accuracy: 0.9867\n",
            "Epoch 6/15\n",
            "469/469 [==============================] - 52s 111ms/step - loss: 0.0368 - accuracy: 0.9883\n",
            "Epoch 7/15\n",
            "469/469 [==============================] - 52s 112ms/step - loss: 0.0319 - accuracy: 0.9900\n",
            "Epoch 8/15\n",
            "469/469 [==============================] - 52s 111ms/step - loss: 0.0300 - accuracy: 0.9900\n",
            "Epoch 9/15\n",
            "469/469 [==============================] - 52s 112ms/step - loss: 0.0266 - accuracy: 0.9913\n",
            "Epoch 10/15\n",
            "469/469 [==============================] - 52s 111ms/step - loss: 0.0239 - accuracy: 0.9924\n",
            "Epoch 11/15\n",
            "469/469 [==============================] - 52s 111ms/step - loss: 0.0216 - accuracy: 0.9927\n",
            "Epoch 12/15\n",
            "469/469 [==============================] - 52s 111ms/step - loss: 0.0211 - accuracy: 0.9931\n",
            "Epoch 13/15\n",
            "469/469 [==============================] - 52s 111ms/step - loss: 0.0194 - accuracy: 0.9933\n",
            "Epoch 14/15\n",
            "469/469 [==============================] - 52s 110ms/step - loss: 0.0174 - accuracy: 0.9939\n",
            "Epoch 15/15\n",
            "469/469 [==============================] - 51s 109ms/step - loss: 0.0163 - accuracy: 0.9942\n"
          ]
        }
      ]
    },
    {
      "cell_type": "code",
      "source": [
        "plt.plot(model.history.history['accuracy'],color='red',label='train')\n",
        "plt.plot(model.history.history['val_accuracy'],color='blue',label='validation')\n",
        "plt.legend()\n",
        "plt.show()\n",
        "# val_accuracy: 0.9930"
      ],
      "metadata": {
        "id": "gBWcjZnBmS8K"
      },
      "execution_count": null,
      "outputs": []
    },
    {
      "cell_type": "code",
      "source": [],
      "metadata": {
        "id": "xSoTm771nI6K"
      },
      "execution_count": null,
      "outputs": []
    },
    {
      "cell_type": "code",
      "source": [],
      "metadata": {
        "id": "noHHBow9nI9W"
      },
      "execution_count": null,
      "outputs": []
    },
    {
      "cell_type": "code",
      "source": [],
      "metadata": {
        "id": "ndQ7LToinI_S"
      },
      "execution_count": null,
      "outputs": []
    },
    {
      "cell_type": "code",
      "source": [],
      "metadata": {
        "id": "pQnRcEOInJCf"
      },
      "execution_count": null,
      "outputs": []
    },
    {
      "cell_type": "code",
      "source": [],
      "metadata": {
        "id": "oii7iibmnJEM"
      },
      "execution_count": null,
      "outputs": []
    },
    {
      "cell_type": "code",
      "source": [],
      "metadata": {
        "id": "-qZ5qzGwnJHg"
      },
      "execution_count": null,
      "outputs": []
    },
    {
      "cell_type": "code",
      "source": [],
      "metadata": {
        "id": "lPLgRgSKnJJS"
      },
      "execution_count": null,
      "outputs": []
    },
    {
      "cell_type": "code",
      "source": [],
      "metadata": {
        "id": "MJ6xhGBAnJM7"
      },
      "execution_count": null,
      "outputs": []
    },
    {
      "cell_type": "code",
      "source": [],
      "metadata": {
        "id": "DI_KZh6FnJOb"
      },
      "execution_count": null,
      "outputs": []
    },
    {
      "cell_type": "code",
      "source": [],
      "metadata": {
        "id": "WLBkI6nknJR4"
      },
      "execution_count": null,
      "outputs": []
    },
    {
      "cell_type": "code",
      "source": [],
      "metadata": {
        "id": "HWf_Pe6CnJTX"
      },
      "execution_count": null,
      "outputs": []
    },
    {
      "cell_type": "code",
      "source": [],
      "metadata": {
        "id": "_qcEelpNnJWz"
      },
      "execution_count": null,
      "outputs": []
    },
    {
      "cell_type": "code",
      "source": [],
      "metadata": {
        "id": "9mo885JZnJYj"
      },
      "execution_count": null,
      "outputs": []
    },
    {
      "cell_type": "code",
      "source": [],
      "metadata": {
        "id": "gbY7sLFenJbu"
      },
      "execution_count": null,
      "outputs": []
    },
    {
      "cell_type": "code",
      "source": [],
      "metadata": {
        "id": "kBuIGMqAnJeM"
      },
      "execution_count": null,
      "outputs": []
    },
    {
      "cell_type": "code",
      "source": [],
      "metadata": {
        "id": "PtgzY2nfnJk2"
      },
      "execution_count": null,
      "outputs": []
    },
    {
      "cell_type": "code",
      "source": [],
      "metadata": {
        "id": "3aZB11ULnJmF"
      },
      "execution_count": null,
      "outputs": []
    },
    {
      "cell_type": "code",
      "source": [],
      "metadata": {
        "id": "zhPlfgW3nJoU"
      },
      "execution_count": null,
      "outputs": []
    },
    {
      "cell_type": "code",
      "source": [],
      "metadata": {
        "id": "06G6lMqunJph"
      },
      "execution_count": null,
      "outputs": []
    },
    {
      "cell_type": "code",
      "source": [],
      "metadata": {
        "id": "BBw97ryAnJr2"
      },
      "execution_count": null,
      "outputs": []
    },
    {
      "cell_type": "code",
      "source": [],
      "metadata": {
        "id": "TtggctUVnJtR"
      },
      "execution_count": null,
      "outputs": []
    },
    {
      "cell_type": "code",
      "source": [],
      "metadata": {
        "id": "SqaidRvJnJwY"
      },
      "execution_count": null,
      "outputs": []
    },
    {
      "cell_type": "code",
      "source": [],
      "metadata": {
        "id": "fIDa0pl-nJ7-"
      },
      "execution_count": null,
      "outputs": []
    },
    {
      "cell_type": "code",
      "source": [],
      "metadata": {
        "id": "y0Yqtx2SnJ9u"
      },
      "execution_count": null,
      "outputs": []
    },
    {
      "cell_type": "code",
      "source": [],
      "metadata": {
        "id": "t2AYz9qnnKAf"
      },
      "execution_count": null,
      "outputs": []
    },
    {
      "cell_type": "code",
      "source": [],
      "metadata": {
        "id": "6D5JQ4UbnKBz"
      },
      "execution_count": null,
      "outputs": []
    },
    {
      "cell_type": "code",
      "source": [],
      "metadata": {
        "id": "jLJkgtQPnKEV"
      },
      "execution_count": null,
      "outputs": []
    },
    {
      "cell_type": "code",
      "source": [],
      "metadata": {
        "id": "bgQm3dsznKFs"
      },
      "execution_count": null,
      "outputs": []
    },
    {
      "cell_type": "code",
      "source": [],
      "metadata": {
        "id": "OAVPl15QnKII"
      },
      "execution_count": null,
      "outputs": []
    },
    {
      "cell_type": "code",
      "source": [],
      "metadata": {
        "id": "rA8AgV0YnKJj"
      },
      "execution_count": null,
      "outputs": []
    },
    {
      "cell_type": "code",
      "source": [],
      "metadata": {
        "id": "eaLqYiyEnKL6"
      },
      "execution_count": null,
      "outputs": []
    },
    {
      "cell_type": "code",
      "source": [],
      "metadata": {
        "id": "9ZLjYhzKnKNg"
      },
      "execution_count": null,
      "outputs": []
    },
    {
      "cell_type": "code",
      "source": [],
      "metadata": {
        "id": "nNFaZKnEnKPn"
      },
      "execution_count": null,
      "outputs": []
    },
    {
      "cell_type": "code",
      "source": [],
      "metadata": {
        "id": "Lmetck8-nKRL"
      },
      "execution_count": null,
      "outputs": []
    },
    {
      "cell_type": "code",
      "source": [],
      "metadata": {
        "id": "xdPBhHDxnKXK"
      },
      "execution_count": null,
      "outputs": []
    }
  ]
}